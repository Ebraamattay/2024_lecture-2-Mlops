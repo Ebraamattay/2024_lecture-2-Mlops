{
 "cells": [
  {
   "cell_type": "code",
   "execution_count": 1,
   "id": "28ccbe23",
   "metadata": {},
   "outputs": [],
   "source": [
    "#Note: The openai-python library support for Azure OpenAI is in preview.\n",
    "      #Note: This code sample requires OpenAI Python library version 1.0.0 or higher.\n",
    "import os\n",
    "from openai import AzureOpenAI\n",
    "\n",
    "\n",
    "client = AzureOpenAI(\n",
    "  azure_endpoint = \"https://diabetes.openai.azure.com/openai/deployments/rrr/chat/completions?api-version=2024-02-15-preview\", \n",
    "  api_key='6f97cb14a59f4f0b91a8e05e31e90e33',\n",
    "  api_version=\"2024-02-15-preview\"\n",
    ")\n",
    "\n",
    "\n",
    "message_text = [{\"role\":\"system\",\"content\":\"You are an AI assistant that helps people find information.\"}]\n",
    "\n",
    "completion = client.chat.completions.create(\n",
    "  model=\"rrr\", # model = \"deployment_name\"\n",
    "  messages = message_text,\n",
    "  temperature=0.7,\n",
    "  max_tokens=800,\n",
    "  top_p=0.95,\n",
    "  frequency_penalty=0,\n",
    "  presence_penalty=0,\n",
    "  stop=None\n",
    ")"
   ]
  },
  {
   "cell_type": "code",
   "execution_count": null,
   "id": "0e659ddd",
   "metadata": {},
   "outputs": [],
   "source": [
    "import openpyxl\n",
    "from openai import AzureOpenAI\n",
    "\n",
    "# Initialize AzureOpenAI client\n",
    "client = AzureOpenAI(\n",
    "    azure_endpoint=\"https://diabetes.openai.azure.com/openai/deployments/rrr/chat/completions?api-version=2024-02-15-preview\",\n",
    "    api_key='6f97cb14a59f4f0b91a8e05e31e90e33',\n",
    "    api_version=\"2024-02-15-preview\"\n",
    ")\n",
    "\n",
    "# Load Excel workbook\n",
    "workbook = openpyxl.load_workbook('datagrad.xlsx')\n",
    "sheet = workbook.active\n",
    "\n",
    "# Initialize row counter\n",
    "row_num = 2  # Assuming data starts from row 2\n",
    "\n",
    "# Iterate through each row and search in GPT-3\n",
    "for row in sheet.iter_rows(min_row=2, max_row=sheet.max_row, min_col=1, max_col=1, values_only=True):\n",
    "    search_query = row[0]  # Assuming the search query is in the first column\n",
    "    \n",
    "    # Make request to GPT-3\n",
    "    completion = client.chat.completions.create(\n",
    "        model=\"rrr\",  # model = 0r8\"deployment_name\"\n",
    "        messages=[{\"role\": \"system\", \"content\": search_query}],\n",
    "        temperature=0.7,\n",
    "        max_tokens=800,\n",
    "        top_p=0.95,\n",
    "        frequency_penalty=0,\n",
    "        presence_penalty=0,\n",
    "        stop=None\n",
    "    )\n",
    "\n",
    "    # Process response and append result to the fourth column\n",
    "    response = completion.choices[0].message.content\n",
    "    result = 'True' if response == 'T' else 'False'  # Assuming response from GPT-3 is 'T' or 'F'\n",
    "    sheet.cell(row=row_num, column=4, value=result)\n",
    "    \n",
    "    # Move to the next row\n",
    "    row_num += 1\n",
    "\n",
    "# Save the modified Excel file\n",
    "workbook.save('your_updated_excel_file.xlsx')"
   ]
  },
  {
   "cell_type": "code",
   "execution_count": null,
   "id": "2337a26f",
   "metadata": {},
   "outputs": [],
   "source": []
  }
 ],
 "metadata": {
  "kernelspec": {
   "display_name": "Python 3 (ipykernel)",
   "language": "python",
   "name": "python3"
  },
  "language_info": {
   "codemirror_mode": {
    "name": "ipython",
    "version": 3
   },
   "file_extension": ".py",
   "mimetype": "text/x-python",
   "name": "python",
   "nbconvert_exporter": "python",
   "pygments_lexer": "ipython3",
   "version": "3.11.4"
  }
 },
 "nbformat": 4,
 "nbformat_minor": 5
}
